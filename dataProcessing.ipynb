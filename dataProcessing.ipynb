{
 "cells": [
  {
   "cell_type": "code",
   "execution_count": 88,
   "metadata": {},
   "outputs": [],
   "source": [
    "\n",
    "import numpy as np\n",
    "import pandas as pd\n",
    "import json\n",
    "from sklearn.preprocessing import LabelEncoder\n",
    "from sklearn.preprocessing import OneHotEncoder\n",
    "from sklearn.compose import ColumnTransformer\n",
    "from sklearn.model_selection import train_test_split\n",
    "from seldonian.utils.io_utils import save_json\n",
    "\n"
   ]
  },
  {
   "attachments": {},
   "cell_type": "markdown",
   "metadata": {},
   "source": [
    "Data Description"
   ]
  },
  {
   "attachments": {},
   "cell_type": "markdown",
   "metadata": {},
   "source": [
    "DATA USED: https://archive.ics.uci.edu/ml/datasets/breast+cancer (Found on UCI Machine Learning Archive)\n",
    "\n",
    "Provided to the UCI Machine Learning Archive by The Oncology Institute\n",
    "\n",
    "The unprocessed data (found at ./data/breast-cancer.csv) contains 85 instances for breast cancer patients that experienced recurrence events and 201 instances for patients that did not experience recurrence. There are 9 other features that can be used to predict recurrence.\n",
    "\n",
    "More information on the data can be found in ./data/breast-cancer.txt"
   ]
  },
  {
   "attachments": {},
   "cell_type": "markdown",
   "metadata": {},
   "source": [
    "Read the Data:"
   ]
  },
  {
   "cell_type": "code",
   "execution_count": 89,
   "metadata": {},
   "outputs": [],
   "source": [
    "filePath = './data/breast-cancer.csv'\n",
    "\n",
    "columnsOrig = [\"recurrence-events\", \"age\", \"menopause\", \"tumor-size\", \"inv-nodes\", \"nodes-cap\",\n",
    "                \"deg-malig\", \"breast\", \"breast-quad\", \"irradiat\"]\n",
    "\n",
    "data = pd.read_csv(filePath, header=None, names=columnsOrig)\n",
    "\n",
    "\n",
    "# set inputs and outputs\n",
    "Y = data['recurrence-events']\n",
    "X = data.drop(columns=['recurrence-events'])\n",
    "\n",
    "\n",
    "# set recurrence (output) to a True or False\n",
    "Y = Y.map({\"no-recurrence-events\": False, \"recurrence-events\": True})\n",
    "\n",
    "# set menopause, nodes-cap, irradiat to booleans\n",
    "X[\"menopause\"] = X[\"menopause\"].map({'lt40': True, 'ge40': True, 'premeno': False})\n",
    "X[\"nodes-cap\"] = X[\"nodes-cap\"].map({'yes': True, 'no': False})\n",
    "X[\"irradiat\"] = X[\"irradiat\"].map({'yes': True, 'no': False})"
   ]
  },
  {
   "attachments": {},
   "cell_type": "markdown",
   "metadata": {},
   "source": [
    "Process Categorical Features"
   ]
  },
  {
   "cell_type": "code",
   "execution_count": 90,
   "metadata": {},
   "outputs": [],
   "source": [
    "cat_cols = [\"age\", \"menopause\", \"tumor-size\", \"inv-nodes\", \"nodes-cap\",\n",
    "                \"deg-malig\", \"breast\", \"breast-quad\", \"irradiat\"]\n",
    "\n",
    "ohe = OneHotEncoder(handle_unknown='ignore')\n",
    "\n",
    "#categorical_processing = Pipeline(steps=['ohe', ohe])\n",
    "\n",
    "preprocessing = ColumnTransformer(transformers=[('cat', ohe, cat_cols)],\n",
    "                                   remainder='passthrough')\n",
    "\n",
    "X = preprocessing.fit_transform(X)\n",
    "\n",
    "Y = LabelEncoder().fit_transform(Y)\n",
    "\n",
    "# remove cat__ prefix in each column name\n",
    "outCols = preprocessing.get_feature_names_out()\n",
    "for i, col in enumerate(outCols):\n",
    "    outCols[i] = col.removeprefix(\"cat__\")\n",
    "\n",
    "# save as dataframe and join with Y\n",
    "X = X.todense()\n",
    "outdf = pd.DataFrame(X, columns=outCols)\n",
    "outdf[\"recurrence\"] = Y\n",
    "\n",
    "# change menopause columns\n",
    "outdf.rename(columns={'menopause_False':'premenopause','menopause_True': 'menopause'},inplace=True)\n"
   ]
  },
  {
   "attachments": {},
   "cell_type": "markdown",
   "metadata": {},
   "source": [
    "Split to Training and Testing Data and save both as csv, save metadata"
   ]
  },
  {
   "cell_type": "code",
   "execution_count": 91,
   "metadata": {},
   "outputs": [
    {
     "name": "stdout",
     "output_type": "stream",
     "text": [
      "Saved metadata file to: data/metadata_breast_cancer.json\n"
     ]
    }
   ],
   "source": [
    "# Randomize the rows in the dataframe\n",
    "trainDF = outdf.sample(frac=1)\n",
    "\n",
    "trainDF.to_csv(\"./data/BC_Data_Proc.csv\",index=False,header=False)\n",
    "\n",
    "# Save metadata json file\n",
    "metadata_dict = {\n",
    "    \"regime\":\"supervised_learning\",\n",
    "    \"sub_regime\":\"classification\",\n",
    "    \"all_col_names\":list(trainDF.columns),\n",
    "    \"label_col_names\": \"recurrence\",\n",
    "    \"sensitive_col_names\":[\"premenopause\",\"menopause\"]\n",
    "}\n",
    "\n",
    "with open(\"data/metadata_breast_cancer.json\",'w') as outfile:\n",
    "    json.dump(metadata_dict,outfile,indent=2)\n",
    "print(f\"Saved metadata file to: data/metadata_breast_cancer.json\") \n"
   ]
  }
 ],
 "metadata": {
  "kernelspec": {
   "display_name": "PytorchML",
   "language": "python",
   "name": "python3"
  },
  "language_info": {
   "codemirror_mode": {
    "name": "ipython",
    "version": 3
   },
   "file_extension": ".py",
   "mimetype": "text/x-python",
   "name": "python",
   "nbconvert_exporter": "python",
   "pygments_lexer": "ipython3",
   "version": "3.9.7"
  },
  "orig_nbformat": 4,
  "vscode": {
   "interpreter": {
    "hash": "4bab8bdeded2040e2ec1249efd84c5bb57424fb2cecf4eab7e55f1b045afc67b"
   }
  }
 },
 "nbformat": 4,
 "nbformat_minor": 2
}
